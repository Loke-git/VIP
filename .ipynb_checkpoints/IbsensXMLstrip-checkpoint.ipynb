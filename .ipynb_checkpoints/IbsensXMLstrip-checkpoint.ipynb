{
 "cells": [
  {
   "cell_type": "markdown",
   "id": "93503062",
   "metadata": {},
   "source": [
    "# IbsensXMLstrip\n",
    "Release *1.0.1* (Hotfix)\n",
    "\n",
    "29.03.2022 \n",
    "\n",
    "av vit.ass. Loke Sjølie"
   ]
  },
  {
   "cell_type": "code",
   "execution_count": null,
   "id": "d3bb4931",
   "metadata": {},
   "outputs": [],
   "source": [
    "version = \"1.0.1\""
   ]
  },
  {
   "cell_type": "markdown",
   "id": "a1c2442a",
   "metadata": {},
   "source": [
    "## Parametre\n",
    "!VIKTIG! Under har du parametre for konversjonen. Disse er prekonfigurert og fungerer bra, men om du vil endre noe i output bør du følge instruksene her før du endrer på selve koden. Alle definerte parametre er trygge.\n",
    "\n",
    "### his:hisdel\n",
    "tag_hisdel kontrollerer følgende undertagger: *overwritten*, *overstrike*, *diagonalOverstrike*. ~~Om tag_hisdel = 2 erstattes alle hisdel-taggene med markdown (~), om tag_hisdel = 1 slettes alle helt, og om tag_hisdel er 0 kontrolleres hver type av sin egen verdi. Dvs at GRUPPEN tar prioritet over individuell tagg."
   ]
  },
  {
   "cell_type": "code",
   "execution_count": null,
   "id": "e0130372",
   "metadata": {},
   "outputs": [],
   "source": [
    "# 0 gjør ingenting, 1 sletter taggen med innholdet HELT, 2 SKAL ETTERHVERT beholde innholdet med markdown (~~)\n",
    "# Gruppekontroll\n",
    "tag_hisdel = 1 # Denne bør være 1 med mindre du tester noe.\n",
    "\n",
    "# Individuell kontroll - brukes kun dersom gruppekontroll er 0\n",
    "# DISSE FUNGERER IKKE ENDA - BRUK GRUPPEKONTROLL 1 ELLER 2, 3 FOR Å DEAKTIVERE. IKKE 0\n",
    "tag_overwritten = 1\n",
    "tag_overstrike = 1\n",
    "tag_diagonaloverstrike = 1"
   ]
  },
  {
   "cell_type": "markdown",
   "id": "22567ef6",
   "metadata": {},
   "source": [
    "### Filformat\n",
    "Parametre for å kontrollere hvilket format som skal produseres. Merk at programmet ikke sletter eksisterende filer. Anbefaler å slette alt i output-folderen før det kjøres."
   ]
  },
  {
   "cell_type": "code",
   "execution_count": null,
   "id": "11520ec7",
   "metadata": {},
   "outputs": [],
   "source": [
    "filsuffiks = \"_RENTEKST\" # Teksten som skal opptre etter hvert filnavn.\n",
    "filformat = \".txt\" # Formatet på de bearbeidede filene. Anbefaler .txt eller .md."
   ]
  },
  {
   "cell_type": "markdown",
   "id": "eb386e3c",
   "metadata": {},
   "source": [
    "### Metadatafiler\n",
    "1 er ja, 0 er nei. Refererer til filene lagt under ../metadata/."
   ]
  },
  {
   "cell_type": "code",
   "execution_count": null,
   "id": "dba17893",
   "metadata": {},
   "outputs": [],
   "source": [
    "createMetadata = 1"
   ]
  },
  {
   "cell_type": "markdown",
   "id": "d389c797",
   "metadata": {},
   "source": [
    "### Tagger\n",
    "Parametre for å kontrollere hvilke tagger som skal slettes helt *med* innhold."
   ]
  },
  {
   "cell_type": "code",
   "execution_count": null,
   "id": "fbae6727",
   "metadata": {},
   "outputs": [],
   "source": [
    "tags_to_erase = [\"fw\",\"handnote\",\"teiheader\",\"lb\",\"figure\",\"pb\",\"note\",\"anchor\",\"back\"]"
   ]
  },
  {
   "cell_type": "markdown",
   "id": "e9fd00af",
   "metadata": {},
   "source": [
    "### Tilfeldig resterende tegn etter sletting\n",
    "Dette gjelder ting som blir igjen etter sletting av typen: \"()\", \") ) ()\", \"- - - - o s v o s v\". Ibsen strøk riktignok ikke over disse tegnene, og de er heller ikke forstyrrende for analyse. Det er en *viss* risiko for at dette kan slette feil ting. Sett 1 for å fjerne, 0 for å la de være.\n",
    "\n",
    "**Tar bare \"()\" per nå.** Vurderes som >99% trygt - \"()\" er ikke noe man ser i naturlig språk."
   ]
  },
  {
   "cell_type": "code",
   "execution_count": null,
   "id": "29c50cb0",
   "metadata": {},
   "outputs": [],
   "source": [
    "purgeNotation = 1"
   ]
  },
  {
   "cell_type": "markdown",
   "id": "9776dc95",
   "metadata": {},
   "source": [
    "### Forklarende print\n",
    "Sett verbose=1 om du vil ha ekstra printfunksjoner som rapporterer diverse detaljer. Har ingenting å si for output."
   ]
  },
  {
   "cell_type": "code",
   "execution_count": null,
   "id": "bfb0d591",
   "metadata": {},
   "outputs": [],
   "source": [
    "verbose = 0"
   ]
  },
  {
   "cell_type": "markdown",
   "id": "d5da2737",
   "metadata": {},
   "source": [
    "---\n",
    "## Program\n",
    "Programmet er bygd slik at det MÅ kjøres på nytt dersom det stopper under kjøring.\n",
    "\n",
    "### Bibliotek"
   ]
  },
  {
   "cell_type": "code",
   "execution_count": null,
   "id": "567016e2",
   "metadata": {},
   "outputs": [],
   "source": [
    "from bs4 import BeautifulSoup # Hent BeautifulSoup-modulen (https://www.crummy.com/software/BeautifulSoup/)\n",
    "import re # Requests. Brukes i noen regex-funksjoner, gitt\n",
    "import os # Filsystem for lasting og lagring\n",
    "import codecs # Dekoder for unicode\n",
    "import csv # CSV-leser for unicode\n",
    "from bs4 import Comment # BS4-addon for å håndtere(slette) kommentarer <!-- X -->\n",
    "from datetime import date # Dato..\n",
    "today = date.today() # Sett dato i dag\n",
    "today = today.strftime(\"%d/%m/%Y\") # Formater dato"
   ]
  },
  {
   "cell_type": "markdown",
   "id": "b35558cf",
   "metadata": {},
   "source": [
    "### Oversett UNICODE\n",
    "Ja, selve koden refererer til \"asciis\" og \"ascii\". Det er unicode da. :)"
   ]
  },
  {
   "cell_type": "code",
   "execution_count": null,
   "id": "bda555e5",
   "metadata": {},
   "outputs": [],
   "source": [
    "file = open(r'config\\unicode.csv') # Egendefinert fil fra DTD.\n",
    "# Andre diverse entiteter som manglet er også oversatt.\n",
    "csvreader = csv.reader(file) # Importer  filen over\n",
    "asciis = [] # Array for unicode-greier (eks. \\u0023)\n",
    "codes = [] # Array for ting som &nbsp - \"html\"-koder\n",
    "for row in csvreader: # For hver rad\n",
    "    htmlcode = row[0] # Html-tagger (de som er synlige i teksten)\n",
    "    unicode = row[1] # Unicode (eg \\u0023)\n",
    "    ASCII = codecs.decode(unicode, 'unicode_escape') # Gjør om til unicode\n",
    "    asciis.append(ASCII) # Legg til i array\n",
    "    codes.append(htmlcode)\n",
    "    if verbose == 1:\n",
    "        print(htmlcode,\"=>\",ASCII)"
   ]
  },
  {
   "cell_type": "markdown",
   "id": "a366a2bd",
   "metadata": {},
   "source": [
    "### Slett tagger vi ikke vil ha"
   ]
  },
  {
   "cell_type": "code",
   "execution_count": null,
   "id": "a405804a",
   "metadata": {},
   "outputs": [],
   "source": [
    "if tag_hisdel == 1:\n",
    "    tags_to_erase.append(\"his:hisdel\")\n",
    "elif tag_hisdel == 2:\n",
    "    print(\"Alle <his:hisdel>-tagger blir erstattet med markdown: { ~~ [innhold] ~~ }\")\n",
    "    print(\"Obs, dette fungerer ikke enda. :/\")\n",
    "    # for tag in content.findAll('his:hisdel'):\n",
    "        # tag.replaceWith(\"~~ %s ~~\" % a.string)\n",
    "elif tag_hisdel == 0:\n",
    "    if tag_overwritten == 1:\n",
    "        tags_to_erase.append(\"overwritten\") \n",
    "        # content.findAll(\"his:hisdel\", {\"rend\" : \"overwritten\"})\n",
    "    elif tag_overwritten == 2:\n",
    "        print(\"TBI: markdown around overwrittens\")\n",
    "    if tag_overstrike == 1:\n",
    "        tags_to_erase.append(\"overstrike\") \n",
    "        # content.findAll(\"his:hisdel\", {\"rend\" : \"overstrike\"})\n",
    "    elif tag_overstrike == 2:\n",
    "        print(\"TBI: markdown around overstrikes\")\n",
    "    if tag_diagonalOverstrike == 1:\n",
    "        tags_to_erase.append(\"diagonalOverstrike\")\n",
    "        # content.findAll(\"his:hisdel\", {\"rend\" : \"diagonalOverstrike\"})\n",
    "    elif tag_overstrike == 2:\n",
    "        print(\"TBI: markdown around diagonal overstrikes\")"
   ]
  },
  {
   "cell_type": "markdown",
   "id": "f039079d",
   "metadata": {},
   "source": [
    "### GLOB\n",
    "Etablerer filstier, dvs gir programmet mål og metode for å finne kildefilene."
   ]
  },
  {
   "cell_type": "code",
   "execution_count": null,
   "id": "e503b991",
   "metadata": {
    "scrolled": true
   },
   "outputs": [],
   "source": [
    "import glob\n",
    "paths = []\n",
    "for path in glob.glob('xml_src/**/*.xml', recursive=True):\n",
    "    paths.append(path)\n",
    "#paths er liste over stier til filer i SRC\n",
    "errors = []\n",
    "outputs = []\n",
    "for path in paths:\n",
    "    path = path.replace('xml_src','xml_output')\n",
    "    outputs.append(path)\n",
    "#outputs er liste over stier til nye filer"
   ]
  },
  {
   "cell_type": "markdown",
   "id": "da02f711",
   "metadata": {},
   "source": [
    "#### Logg: filstier"
   ]
  },
  {
   "cell_type": "code",
   "execution_count": null,
   "id": "ad52917b",
   "metadata": {},
   "outputs": [],
   "source": [
    "if verbose == 1:\n",
    "    i = 0\n",
    "    for path in paths:\n",
    "        print(i,path)\n",
    "        i+=1"
   ]
  },
  {
   "cell_type": "markdown",
   "id": "c7697a79",
   "metadata": {},
   "source": [
    "### Programkjerne V3\n",
    "Brukes fra betaversjon 0.3. Denne kjernen diskriminerer ikke mellom *n* antall front-, body eller andre diverse tagger og har krokfunksjonalitet for å legge \\n eller annet før/etter diskré tekster, som kan bli aktuelt ved brev."
   ]
  },
  {
   "cell_type": "code",
   "execution_count": null,
   "id": "f72cd641",
   "metadata": {},
   "outputs": [],
   "source": [
    "# ACTION\n",
    "i = 0\n",
    "x = 0\n",
    "y = 0\n",
    "for thing in paths: # For hver sti (med endestasjon fil) i listen over stier\n",
    "    supralinears = [] # Liste over supertall\n",
    "    infralinears = [] # Liste over infratall\n",
    "    samleparanteser = [] # Liste over samleparanteser\n",
    "    comments = [] # Liste over kommentarer\n",
    "    tagswereremoved = 0\n",
    "    asciisfixedup = 0\n",
    "    texts = \"Henter alle instanser av <text>\"\n",
    "    #if \"ht\" in thing: # Ekskluder ikke-hovedtekster\n",
    "    #IF HER\n",
    "    if \"noter\" not in thing: # Fortsett hvis \"noter\" IKKE er del av filens tittel.\n",
    "        print(i+1,thing)\n",
    "        # Filhåndtering I - Les og last xml-filer inn i minne\n",
    "        with open(thing, \"r\", encoding=\"utf-8\") as file: # Åpne filen med encoding UTF8\n",
    "            content = file.readlines() # Les innholdet som linjer\n",
    "            content = \"\".join(content) # Linjene blir kombinert i en variabel\n",
    "\n",
    "        # Filhåndtering II - Lag ny sti\n",
    "        frags = outputs[i].split('\\\\') # Splitt outputstrengen for sti\n",
    "        if \"xml\" in frags[2]: # Hvis filen er 3 ned, altså vi finner xml-filen her (eks. xml_src\\dikt\\~.xml)\n",
    "            dirName = frags[0]+\"\\\\\"+frags[1] # Dirname blir 2 dyp (xml_output\\DIRNAME\\)\n",
    "            metaName = frags[2] # Trenger et navn på filen\n",
    "        else: # OBS!! OBS!! Hvis filen IKKE er 3 ned ANTAR vi at den er 4 ned, slik som de(n) er i dramafolderen.\n",
    "            metaName = frags[3] # Navn på filen\n",
    "            dirName = frags[0]+\"\\\\\"+frags[1]+\"\\\\\"+frags[2] # Dirname blir 3 dyp (xml_output\\drama\\DIRNAME\\)\n",
    "            archDir = frags[0]+\"\\\\\"+frags[1] # FAILSAFE for DRAMA: Drama er ett hakk lengre ned i hierarkiet enn alt annet. Skap mappe for å ta drama\n",
    "            #OBS - koden her ANTAR at senteret ALLTID følger samme praksis. Koden må endres om praksis endres.\n",
    "            if not os.path.exists(archDir): # Hvis subfolder ikke finnes (eks.\\drama\\BE\\)\n",
    "                os.mkdir(archDir) # Skap den\n",
    "\n",
    "        metaFolder = dirName+\"\\\\metadata\" # Vi forbereder en metadatafolder ett steg under stien vi lagde over\n",
    "        metaName = metaName[:-4] # Strip . x m l. Bruker ikke outputs[i] fordi den gir hele stien, metaName er fragment\n",
    "        metaFile = metaFolder+\"\\\\\"+metaName+\"_METADATA.txt\" # Metadatafilen skal få samme filnavn med _metadata-suffiks\n",
    "        outputs[i] = outputs[i][:-4] # Strip 4 tegn fra slutten av hver streng for å få bort .xml (4. 3X 2M 1L)\n",
    "\n",
    "        if not os.path.exists(dirName): # Hvis folderen ikke eksisterer\n",
    "            os.mkdir(dirName) # Lag folderen\n",
    "            os.mkdir(metaFolder) # Legg metadata-folder inne i den igjen\n",
    "        name = outputs[i]+filsuffiks+filformat # Outputfil får navnet X_SANERT.txt\n",
    "\n",
    "        # BeautifulSoup - her begynner vi å endre på XML-strukturen.\n",
    "        # STRING-METODER FUNGERER IKKE HER!\n",
    "        content = BeautifulSoup(content, from_encoding=\"UTF-8\") # Content er content som bs4-objekt...\n",
    "        target = content.body\n",
    "        \n",
    "        # Krok for å separere text-tagger om ønskelig.\n",
    "        texts = content.findAll(\"text\") # 0 er wrapper.\n",
    "#        wrapper = texts[0]\n",
    "        if len(texts) > 1: # Hvis det er MER enn én text-tagg\n",
    "            print(\"** LOGG Filen har\",len(texts)-1,\"tekster **\") # DEBUG print hvor mange det er \n",
    "#            textcount = 0\n",
    "#            for text in texts: # For hver text...\n",
    "#                textcount += 1\n",
    "#            print(textcount)\n",
    "          \n",
    "        # Opprett metadata\n",
    "        if createMetadata == 1:\n",
    "            print(\"Henter metadata...\")\n",
    "            try:\n",
    "                titlestatement = content.find(\"titlestmt\") # Finn title statement\n",
    "                titlestatement.extract() # Hent (og fjern) title statement-delen\n",
    "                #print(\"> Titlestmt\")\n",
    "            except:\n",
    "                print(\"X Ingen title statement\")\n",
    "            try:\n",
    "                filedescription = content.find(\"filedesc\") # Finn filbeskrivelsen\n",
    "                filedescription.extract() # Hent (og fjern) filbeskrivelsen\n",
    "            except:\n",
    "                print(\"X Ingen filbeskrivelse\")\n",
    "\n",
    "        # Teksten (alt under <text>)\n",
    "        print(\"Konverterer teksten...\")\n",
    "        # Slett tagger vi ikke skal beholde\n",
    "        if tag_hisdel == 2:\n",
    "            print(\"> Sletter tagger\")\n",
    "            z = 0\n",
    "            try:\n",
    "                for tag in content.findAll('his:hisdel'):\n",
    "                    tag.replaceWith(\" ~~ %s ~~ \" % a.string)\n",
    "                    z += 1\n",
    "                if z > 0:\n",
    "                    print(\"> Erstattet\",z,\"hisdel-tagger med markdown-tagger.\")\n",
    "                else:\n",
    "                    print(\"> his:hisdel-tagger er ikke 0, men 0 ble fjernet...? Hva.\")\n",
    "            except:\n",
    "                print(\"> Ingen hisdel-tagger å endre.\")\n",
    "\n",
    "       # try:\n",
    "        for tag in tags_to_erase: # For hver tagg\n",
    "            to_remove = content.find_all(tag) # Finn alle instanser av taggen\n",
    "            if len(to_remove) > 0: # Hvis det er 1 eller flere av taggen\n",
    "                for remove in to_remove: # For hver av disse\n",
    "                    remove.decompose() # Fjern taggen og innholdet helt\n",
    "                    tagswereremoved += 1\n",
    "        if tagswereremoved > 0:\n",
    "            print(\">\",tagswereremoved,\"uønskede tagger\")\n",
    "      #  except:\n",
    "      #      pass\n",
    "      #  try:\n",
    "            # Neste 3 linjer fjerner tilfeldige tall i output-filene. Disse er SPESIFIKT tall (subtype:no)\n",
    "        supralinears = content.findAll(attrs={\"rend\": \"supralinear\", \"subtype\":\"no\"}) # Finn ^x-notasjon\n",
    "        if len(supralinears) > 0:\n",
    "            for no in supralinears: # For hver av disse\n",
    "                no.decompose() # Slett dem helt\n",
    "            print(\">\",len(supralinears),\"supralineære tallnoter\")\n",
    "      #  except:\n",
    "       #     pass\n",
    "       # try:\n",
    "        infralinears = content.findAll(attrs={\"rend\": \"infralinear\", \"subtype\":\"no\"}) # Finn ^x-notasjon..\n",
    "        if len(infralinears) > 0:\n",
    "            for no in infralinears: # For hver av disse\n",
    "                no.decompose() # Slett dem helt\n",
    "            print(\">\",len(infralinears),\"infralineære tallnoter\")\n",
    "       # except:\n",
    "       #     pass\n",
    "       # try:\n",
    "        samleparanteser = content.findAll(attrs={\"rend\":\"bracedLeft\"})\n",
    "        if len(samleparanteser) > 0:\n",
    "            for samleparantes in samleparanteser:\n",
    "                samleparantes.decompose()\n",
    "            print(\">\",len(samleparanteser),\"samleparanteser\")\n",
    "   #     except:\n",
    "    #        pass\n",
    "        comments = content.findAll(string=lambda text: isinstance(text, Comment))\n",
    "        if len(comments) > 0:\n",
    "            print(\">\",len(comments),\"HTML-kommentarer\")\n",
    "        for c in comments:\n",
    "            c.extract()\n",
    "        content = str(content) # CONTENT ER NÅ STRING - STRINGMETODER FUNGERER, BS4-METODER FUNGERER IKKE\n",
    "        #content = re.sub(\"(<!--.*?-->)\", \"\", content, flags=re.DOTALL) # UTRYDD ALLE KOMMENTARER.\n",
    "        z = 0 # Tell fra 0 i z\n",
    "        for code in codes: # For hver kode\n",
    "            if code in content: # Hvis koden finnes i teksten\n",
    "                content = content.replace(code,asciis[z]) # Erstatt koden med tekst\n",
    "                asciisfixedup += 1\n",
    "                if verbose == 1:\n",
    "                    print('Erstattet',code,'med',asciis[z]) # Print bekreftelse\n",
    "            z+=1 # Neste kode etter å ha sjekket hver kode\n",
    "        print(\">\",asciisfixedup,\"unike unicode-tegn\")\n",
    "        \n",
    "        # Tekstfunksjonene under er et salig rot og sakker sikkert koden noe helt grusomt.\n",
    "        # Men det funker. ;)\n",
    "        content = re.sub('<[^<]+>', \"\", content) # Slett alle resterende tagger UTEN å røre innholdet\n",
    "        content = re.sub('\\s+',' ', content) # Korriger alle instanser av multimellomrom til enkeltmellomrom\n",
    "        content = content.replace(\"&typHyp; \",\"\")\n",
    "        content = content.replace(\"&typHyp;\",\"\")\n",
    "        content = content.replace(\"\\n\",\" \") # Slett newline og erstatt med mellomrom \n",
    "        content = content.replace(\"'“'\",\"\")\n",
    "        content = content.replace(\"&dash;\",\"-\")\n",
    "        content = content.replace(\"&\",\" & \")\n",
    "        content = content.replace(\"& &\",\" & \")\n",
    "        content = content.replace(\". &\",\".\")\n",
    "        content = content.replace(\"'\\\"'\", \"\")\n",
    "        content = content.replace(\" < \",\"\")\n",
    "        \n",
    "        if purgeNotation == 1:\n",
    "            content = content.replace(\"()\",\"\")\n",
    "        content = re.sub('\\s+',' ', content) # Korriger alle instanser av multimellomrom til enkeltmellomrom IGJEN.\n",
    "\n",
    "        if tag_hisdel == 1: # Hvis vi sletter hisdel-taggen med innhold\n",
    "            content = content.replace(\" . \", \" \")\n",
    "            content = content.replace(\" < \", \"\")\n",
    "        content = content.strip()\n",
    "        print(\"Lagrer...\")\n",
    "        \n",
    "        # Filhåndtering III - Skriv til disk\n",
    "        try: # Prøv å skrive til disk\n",
    "            f = open(name, \"w\", encoding=\"utf-8\") # Ikke glem encoding=\"utf-8\", sånn som jeg gjorde.\n",
    "            f.write(content) # Skriv innholdet i content-variabelen\n",
    "            f.close()\n",
    "            print(\">> Opprettet\",name,\"i\",dirName)\n",
    "            x+=1\n",
    "        except: # Hvis vi møter på feil, rapporter kilden\n",
    "            print(\"XXX FILFEIL!\",thing)\n",
    "            f = open(name+\"_ERROR\", \"w\", encoding=\"utf-8\")\n",
    "            f.write(\"CRITICAL ERROR DURING WRITE SEQUENCE\\nCHECK ENCODING\")\n",
    "            f.close()\n",
    "            errors.append(name)\n",
    "            y+=1\n",
    "            raise KeyboardInterrupt\n",
    "        if createMetadata == 1:\n",
    "            metadata = str(filedescription)+str(titlestatement)\n",
    "            \n",
    "            metadata = metadata.replace('<date when=\"',\"Conversion date: \")\n",
    "            metadata = metadata.replace('<title level=\"a\" type=\"main\">',\"Primary title: \")\n",
    "            metadata = metadata.replace('<title level=\"s\" type=\"main\">',\"Primary subtitle: \")\n",
    "            metadata = metadata.replace('<title level=\"s\" type=\"sub\">',\"Subtitle: \")\n",
    "            metadata = metadata.replace(\"<author>\",\"Author: \")\n",
    "            metadata = metadata.replace('<title type=\"main\">',\"Title: \")\n",
    "            metadata = re.sub('<[^<]+>', \" \", metadata) # Fjern tagger\n",
    "            metadata = re.sub('\\s+',' ', metadata) # Korriger alle instanser av multimellomrom til enkeltmellomrom\n",
    "            dateassign = \"Converted to plain text from TEI-style XML\",today,\"with IbsensXMLStrip, version\",version+\".\"\n",
    "            decl = \" \".join(dateassign)\n",
    "            metadata += decl\n",
    "            try: # Prøv å skrive metadata! til disk\n",
    "                f = open(metaFile, \"w\", encoding=\"utf-8\") # Ikke glem encoding=\"utf-8\", sånn som jeg gjorde.\n",
    "                f.write(metadata) # Skriv innholdet i metadata-variabelen\n",
    "                f.close()\n",
    "                print(\">>> Metadata opprettet:\",metaFile)\n",
    "                x+=1\n",
    "            except: # Hvis vi møter på feil, rapporter kilden\n",
    "                print(\"YYY METADATA FILFEIL!\",thing)\n",
    "                f = open(metaFile+\"_ERROR\", \"w\", encoding=\"utf-8\")\n",
    "                f.write(\"CRITICAL ERROR DURING WRITE SEQUENCE\\nCHECK ENCODING\")\n",
    "                f.close()\n",
    "                errors.append(name)\n",
    "                y+=1\n",
    "                raise KeyboardInterrupt\n",
    "        print(\"\\n\")\n",
    "        #IF HER\n",
    "    #else:\n",
    "     #   print(\"Skipped\",thing)\n",
    "    i+=1\n",
    "percA = (i/len(paths))*100"
   ]
  },
  {
   "cell_type": "markdown",
   "id": "755416f6",
   "metadata": {},
   "source": [
    "## Logg"
   ]
  },
  {
   "cell_type": "code",
   "execution_count": null,
   "id": "45affba8",
   "metadata": {},
   "outputs": [],
   "source": [
    "print(\"Behandlet\",str(percA)+\"% av\",len(paths),\"filer med\",y,\"lagringsfeil.\")\n",
    "if errors:\n",
    "    errors"
   ]
  },
  {
   "cell_type": "markdown",
   "id": "18bac854",
   "metadata": {},
   "source": [
    "# Ferdig!\n",
    "De rene tekstfilene skal nå finnes under .../xml_output/*, samt metadata i tilhørende mappe (om createMetadata == 1). Med mindre du fikk feil i scriptet over. Eller om noe annet gikk galt.\n",
    "___"
   ]
  },
  {
   "cell_type": "code",
   "execution_count": null,
   "id": "c25d6b14",
   "metadata": {},
   "outputs": [],
   "source": []
  },
  {
   "cell_type": "code",
   "execution_count": null,
   "id": "d9f6dcaa",
   "metadata": {},
   "outputs": [],
   "source": []
  }
 ],
 "metadata": {
  "kernelspec": {
   "display_name": "Python 3",
   "language": "python",
   "name": "python3"
  },
  "language_info": {
   "codemirror_mode": {
    "name": "ipython",
    "version": 3
   },
   "file_extension": ".py",
   "mimetype": "text/x-python",
   "name": "python",
   "nbconvert_exporter": "python",
   "pygments_lexer": "ipython3",
   "version": "3.8.8"
  }
 },
 "nbformat": 4,
 "nbformat_minor": 5
}
